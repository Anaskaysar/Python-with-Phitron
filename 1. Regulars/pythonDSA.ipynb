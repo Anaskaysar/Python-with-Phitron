{
 "cells": [
  {
   "cell_type": "code",
   "execution_count": 2,
   "metadata": {},
   "outputs": [
    {
     "name": "stdout",
     "output_type": "stream",
     "text": [
      "g\n",
      "cow\n",
      "kebin\n"
     ]
    }
   ],
   "source": [
    "#string\n",
    "x = 'frog'\n",
    "print(x[3])\n",
    "\n",
    "#list\n",
    "x= ['pig', 'cow', 'horse']\n",
    "print(x[1])\n",
    "\n",
    "#tuples\n",
    "x = ('kebin', 'Nikolas', 'tesla')\n",
    "print(x[0])"
   ]
  },
  {
   "cell_type": "markdown",
   "metadata": {},
   "source": [
    "Slicing - slice out substrings, sublistsm subtuples using indexes.\n",
    "[start: end+1:step]"
   ]
  },
  {
   "cell_type": "code",
   "execution_count": 1,
   "metadata": {},
   "outputs": [
    {
     "name": "stdout",
     "output_type": "stream",
     "text": [
      "ompu\n"
     ]
    }
   ],
   "source": [
    "x = 'computer'\n",
    "\n",
    "print(x[1:5:1])"
   ]
  },
  {
   "cell_type": "markdown",
   "metadata": {},
   "source": [
    "Adding and concatenating - combine 2 sequences of the same type by using +"
   ]
  },
  {
   "cell_type": "code",
   "execution_count": 3,
   "metadata": {},
   "outputs": [
    {
     "name": "stdout",
     "output_type": "stream",
     "text": [
      "horseshoe\n",
      "['cow', 'horse', 'lamb']\n",
      "('kebin', 'nikolas', 'jenny', 'Craig')\n"
     ]
    }
   ],
   "source": [
    "# string\n",
    "\n",
    "x = 'horse' + 'shoe'\n",
    "print(x)\n",
    "\n",
    "#list\n",
    "x = ['cow', 'horse'] + ['lamb']\n",
    "print(x)\n",
    "\n",
    "#tuple\n",
    "z = ('kebin', 'nikolas', 'jenny') + ('Craig',)\n",
    "print(z)"
   ]
  },
  {
   "cell_type": "code",
   "execution_count": null,
   "metadata": {},
   "outputs": [],
   "source": []
  }
 ],
 "metadata": {
  "kernelspec": {
   "display_name": "base",
   "language": "python",
   "name": "python3"
  },
  "language_info": {
   "codemirror_mode": {
    "name": "ipython",
    "version": 3
   },
   "file_extension": ".py",
   "mimetype": "text/x-python",
   "name": "python",
   "nbconvert_exporter": "python",
   "pygments_lexer": "ipython3",
   "version": "3.9.16"
  },
  "orig_nbformat": 4
 },
 "nbformat": 4,
 "nbformat_minor": 2
}
